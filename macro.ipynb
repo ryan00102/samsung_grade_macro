{
 "cells": [
  {
   "cell_type": "code",
   "execution_count": null,
   "metadata": {},
   "outputs": [],
   "source": [
    "def rearrange_and_save(input_file_path, output_file_path):\n",
    "    with open(input_file_path, 'r', encoding='utf-8') as file:\n",
    "        lines = file.readlines()\n",
    "\n",
    "    rearranged_data = []\n",
    "\n",
    "    for line in lines:\n",
    "        data = line.strip().split('\\t')\n",
    "        subject_type = data[4]  # 과목유형\n",
    "        credit = data[6]  #\n",
    "        grade = data[9]  # 성적\n",
    "        subject_name = data[3]  # 과목명\n",
    "        year = data[0]  # 수강 연도\n",
    "        semester = data[1]\n",
    "\n",
    "        rearranged_data.append(f\"{subject_type}{credit}\\t{grade}\\t{subject_name}\\t{year}\\t{semester}\\n\")\n",
    "\n",
    "    with open(output_file_path, 'w', encoding='utf-8') as output_file:\n",
    "        output_file.writelines(rearranged_data)\n",
    "\n",
    "# 입력 파일과 출력 파일 경로를 지정\n",
    "input_file_path = '성적.txt'  # 입력 파일의 경로와 이름\n",
    "output_file_path = 'output.txt'  # 출력 파일의 경로와 이름\n",
    "\n",
    "# 함수 호출로 텍스트 파일 재배열 및 저장\n",
    "rearrange_and_save(input_file_path, output_file_path)\n",
    "\n",
    "print(f\"텍스트 파일이 성공적으로 재배열되어 {output_file_path}에 저장되었습니다.\")"
   ]
  },
  {
   "cell_type": "code",
   "execution_count": null,
   "metadata": {},
   "outputs": [],
   "source": [
    "import pandas as pd\n",
    "\n",
    "def rearrange_and_save(input_file_path, output_excel_path):\n",
    "    # 텍스트 파일을 DataFrame으로 읽기\n",
    "    df = pd.read_csv(input_file_path, sep='\\t', header=None, names=['과목유형', '성적', '과목명', '수강연도', '학기'])\n",
    "    print(df)\n",
    "    # 새로운 column들 생성\n",
    "    df['NO'] = range(1, len(df) + 1)\n",
    "    df['전공명'] = df['과목유형'].map({\"교양\" : \"컴퓨터학(고려대-학사-주전공)\",\"전공선택\" : \"컴퓨터학(고려대-학사-주전공)\",\"전공필수\" : \"컴퓨터학(고려대-학사-주전공)\"})\n",
    "    df['과목유형'] = df['과목유형'].map({\"교양\" : \"교양기타\",\"전공선택\" : \"전공\",\"전공필수\" : \"전공\"})\n",
    "    \n",
    "    df['학기'] = df['학기'].map({\"1\": '1', \"2\": '2', '여름계절': '여름계절', 4: '겨울계절'})  # 학기 정보를 한글로 변환\n",
    "    df['취득학점'] = 3\n",
    "    df['재수강 여부'] = \"N\"\n",
    "\n",
    "    # 필요한 column들만 선택\n",
    "    final_columns = ['NO', '전공명', '수강연도', '학기', '과목명', '과목유형', '취득학점','성적','재수강 여부']\n",
    "    df = df[final_columns]\n",
    "\n",
    "    # Excel 파일로 저장\n",
    "    df.to_excel(output_excel_path, index=False, encoding='utf-8')\n",
    "\n",
    "# 입력 파일과 출력 파일 경로를 지정\n",
    "input_file_path = 'output.txt'  # 입력 파일의 경로와 이름\n",
    "output_excel_path = 'output_excel.xlsx'  # 출력 Excel 파일의 경로와 이름\n",
    "\n",
    "# 함수 호출로 텍스트 파일을 읽어와서 Excel 파일로 재배열 및 저장\n",
    "rearrange_and_save(input_file_path, output_excel_path)\n",
    "\n",
    "print(f\"Excel 파일이 성공적으로 생성되어 {output_excel_path}에 저장되었습니다.\")\n"
   ]
  }
 ],
 "metadata": {
  "language_info": {
   "name": "python"
  }
 },
 "nbformat": 4,
 "nbformat_minor": 2
}
